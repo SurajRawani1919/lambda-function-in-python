{
 "cells": [
  {
   "cell_type": "code",
   "execution_count": 5,
   "id": "8b049d4b-4ce6-40e3-bb2f-ce9736eeedea",
   "metadata": {},
   "outputs": [
    {
     "data": {
      "text/plain": [
       "5"
      ]
     },
     "execution_count": 5,
     "metadata": {},
     "output_type": "execute_result"
    }
   ],
   "source": [
    "#lambda function \n",
    "#small anonymous function \n",
    "#anonymous----unknown\n",
    "#will use lambda keyword to define the function \n",
    "#syntax\n",
    "#lambda expression(x,y): code_to_run\n",
    "\n",
    "sum1= lambda x,y:x+y\n",
    "sum1(2,3)\n",
    "\n",
    "#we can pass positional as well as keyword is the lambda function\n",
    "#use case : will make the code easy and simple "
   ]
  },
  {
   "cell_type": "code",
   "execution_count": 11,
   "id": "d87cbdf2-6e54-4607-9acb-dbacbeca2d15",
   "metadata": {},
   "outputs": [
    {
     "data": {
      "text/plain": [
       "8"
      ]
     },
     "execution_count": 11,
     "metadata": {},
     "output_type": "execute_result"
    }
   ],
   "source": [
    "sub= lambda a,b: (a**b)\n",
    "sub(2,3)"
   ]
  },
  {
   "cell_type": "code",
   "execution_count": 15,
   "id": "e1302e0c-1842-4870-be2a-379a2155884a",
   "metadata": {},
   "outputs": [
    {
     "data": {
      "text/plain": [
       "-1"
      ]
     },
     "execution_count": 15,
     "metadata": {},
     "output_type": "execute_result"
    }
   ],
   "source": [
    "mul= lambda a,b,c :(a*b-c)\n",
    "mul(1,2,3)"
   ]
  },
  {
   "cell_type": "code",
   "execution_count": 16,
   "id": "016d195e-556a-484c-b6f3-94faca296e5e",
   "metadata": {},
   "outputs": [
    {
     "data": {
      "text/plain": [
       "5"
      ]
     },
     "execution_count": 16,
     "metadata": {},
     "output_type": "execute_result"
    }
   ],
   "source": [
    "mul= lambda a,b,c :(a*b-c)\n",
    "mul(a=3,b=2,c=1)"
   ]
  },
  {
   "cell_type": "code",
   "execution_count": null,
   "id": "f96ad2d2-9500-41d5-9946-8e9a315685a3",
   "metadata": {},
   "outputs": [],
   "source": []
  },
  {
   "cell_type": "code",
   "execution_count": 23,
   "id": "ef14d482-e0cc-41f9-a900-2bec0de9cf8d",
   "metadata": {},
   "outputs": [
    {
     "data": {
      "text/plain": [
       "120"
      ]
     },
     "execution_count": 23,
     "metadata": {},
     "output_type": "execute_result"
    }
   ],
   "source": [
    "#recursive function \n",
    "#repetition of function inside the function itself \n",
    "\n",
    "def factorial(n):\n",
    "    if n==1:\n",
    "        return 1\n",
    "    else :\n",
    "        return n*factorial(n-1)\n",
    "\n",
    "factorial(5)"
   ]
  },
  {
   "cell_type": "code",
   "execution_count": 32,
   "id": "d23e8fae-f100-4c72-ae2e-f8549cdead4d",
   "metadata": {},
   "outputs": [
    {
     "data": {
      "text/plain": [
       "13"
      ]
     },
     "execution_count": 32,
     "metadata": {},
     "output_type": "execute_result"
    }
   ],
   "source": [
    "def fibonacci(n):\n",
    "    if n<=0:\n",
    "        return 0\n",
    "    elif n==1:\n",
    "        return 1\n",
    "    else:\n",
    "        return fibonacci(n-2) + fibonacci(n-1)\n",
    "fibonacci(7)"
   ]
  },
  {
   "cell_type": "code",
   "execution_count": 34,
   "id": "d77bb0da-f08e-42dc-b743-2fd01f23cec2",
   "metadata": {},
   "outputs": [
    {
     "name": "stdout",
     "output_type": "stream",
     "text": [
      "1\n",
      "1\n",
      "2\n",
      "3\n",
      "5\n"
     ]
    }
   ],
   "source": [
    "def feb(n):\n",
    "    a, b = 0, 1\n",
    "    while n > 0:\n",
    "        a, b = b, a + b\n",
    "        print(a)\n",
    "        n -= 1\n",
    "\n",
    "feb(5)"
   ]
  },
  {
   "cell_type": "code",
   "execution_count": null,
   "id": "fb155301-0db1-4229-a66d-c6dc24897626",
   "metadata": {},
   "outputs": [],
   "source": []
  }
 ],
 "metadata": {
  "kernelspec": {
   "display_name": "Python 3 (ipykernel)",
   "language": "python",
   "name": "python3"
  },
  "language_info": {
   "codemirror_mode": {
    "name": "ipython",
    "version": 3
   },
   "file_extension": ".py",
   "mimetype": "text/x-python",
   "name": "python",
   "nbconvert_exporter": "python",
   "pygments_lexer": "ipython3",
   "version": "3.10.11"
  }
 },
 "nbformat": 4,
 "nbformat_minor": 5
}
